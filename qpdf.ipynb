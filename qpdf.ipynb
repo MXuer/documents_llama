{
 "cells": [
  {
   "cell_type": "code",
   "execution_count": null,
   "id": "f3e839d9",
   "metadata": {},
   "outputs": [],
   "source": []
  },
  {
   "cell_type": "markdown",
   "id": "d4906f7b",
   "metadata": {},
   "source": [
    "## reading a pdf file\n",
    "code from [pdfchat](https://github.com/bhaskatripathi/pdfGPT/blob/main/api.py)"
   ]
  },
  {
   "cell_type": "code",
   "execution_count": 5,
   "id": "d0f070c4",
   "metadata": {},
   "outputs": [],
   "source": [
    "import re\n",
    "import fitz\n",
    "\n",
    "def preprocess(text):\n",
    "    text = text.replace('\\n', ' ')\n",
    "    text = re.sub('\\s+', ' ', text)\n",
    "    return text\n",
    "\n",
    "\n",
    "def pdf_to_text(path, start_page=1, end_page=None):\n",
    "    doc = fitz.open(path)\n",
    "    total_pages = doc.page_count\n",
    "    \n",
    "    if end_page is None:\n",
    "        end_page = total_pages\n",
    "        \n",
    "    text_list = []\n",
    "    \n",
    "    for i in range(start_page-1, end_page):\n",
    "        text = doc.load_page(i).get_text(\"text\")\n",
    "        text = preprocess(text)\n",
    "        text_list.append(text)\n",
    "        \n",
    "    doc.close()\n",
    "    return text_list"
   ]
  },
  {
   "cell_type": "code",
   "execution_count": 6,
   "id": "ce3acd40",
   "metadata": {},
   "outputs": [],
   "source": [
    "pdf_file = \"StarCoder.pdf\"\n",
    "text_list = pdf_to_text(pdf_file)"
   ]
  },
  {
   "cell_type": "code",
   "execution_count": null,
   "id": "29d091a8",
   "metadata": {},
   "outputs": [],
   "source": []
  }
 ],
 "metadata": {
  "kernelspec": {
   "display_name": "Python 3 (ipykernel)",
   "language": "python",
   "name": "python3"
  },
  "language_info": {
   "codemirror_mode": {
    "name": "ipython",
    "version": 3
   },
   "file_extension": ".py",
   "mimetype": "text/x-python",
   "name": "python",
   "nbconvert_exporter": "python",
   "pygments_lexer": "ipython3",
   "version": "3.8.16"
  }
 },
 "nbformat": 4,
 "nbformat_minor": 5
}
